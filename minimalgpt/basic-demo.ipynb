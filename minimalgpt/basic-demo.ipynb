{
 "cells": [
  {
   "cell_type": "markdown",
   "metadata": {},
   "source": [
    "## 설치"
   ]
  },
  {
   "cell_type": "code",
   "execution_count": null,
   "metadata": {},
   "outputs": [],
   "source": [
    "# !pip install openai langchain beautifulsoup4 tiktoken -q"
   ]
  },
  {
   "cell_type": "markdown",
   "metadata": {},
   "source": [
    "**참고**\n",
    "\n",
    "- [`OPENAI_API_KEY` 발급 방법](https://teddylee777.github.io/langchain/langchain-tutorial-01/#-%ED%99%98%EA%B2%BD%EC%84%A4%EC%A0%95) "
   ]
  },
  {
   "cell_type": "code",
   "execution_count": 23,
   "metadata": {},
   "outputs": [],
   "source": [
    "import os\n",
    "\n",
    "os.environ['OPENAI_API_KEY'] = 'OPENAI API KEY 를 입력해 주세요'"
   ]
  },
  {
   "cell_type": "markdown",
   "metadata": {},
   "source": [
    "## 질의"
   ]
  },
  {
   "cell_type": "code",
   "execution_count": 34,
   "metadata": {},
   "outputs": [
    {
     "data": {
      "text/plain": [
       "<module 'modules' from '/Users/teddy/Dev/github/minimalgpt/minimalgpt/modules.py'>"
      ]
     },
     "execution_count": 34,
     "metadata": {},
     "output_type": "execute_result"
    }
   ],
   "source": [
    "import modules as chatgpt\n",
    "\n",
    "import importlib\n",
    "\n",
    "importlib.reload(chatgpt)"
   ]
  },
  {
   "cell_type": "code",
   "execution_count": 26,
   "metadata": {},
   "outputs": [
    {
     "name": "stdout",
     "output_type": "stream",
     "text": [
      "{'temperature': 0, 'model_name': 'gpt-4-1106-preview', 'streaming': True, 'callbacks': [<langchain.callbacks.streaming_stdout.StreamingStdOutCallbackHandler object at 0x11daf5850>]}\n"
     ]
    }
   ],
   "source": [
    "# 객체 생성\n",
    "chatbot = chatgpt.ChatModule(\n",
    "    temperature=0, \n",
    "    model_name='gpt-4-1106-preview', \n",
    "    streaming=True)"
   ]
  },
  {
   "cell_type": "code",
   "execution_count": 27,
   "metadata": {},
   "outputs": [
    {
     "name": "stdout",
     "output_type": "stream",
     "text": [
      "\"우리나라\"라고 하셨을 때 어느 나라를 말씀하시는지 명확하지 않습니다. 만약 대한민국(남한)을 말씀하시는 것이라면, 수도는 서울입니다. 다른 나라의 수도를 알고 싶으시다면, 구체적인 나라 이름을 알려주시면 답변해 드리겠습니다."
     ]
    }
   ],
   "source": [
    "# 질의\n",
    "answer = chatbot.ask('우리나라의 수도는 뭐야?')"
   ]
  },
  {
   "cell_type": "markdown",
   "metadata": {},
   "source": [
    "## 대화(Conversation)"
   ]
  },
  {
   "cell_type": "code",
   "execution_count": 28,
   "metadata": {},
   "outputs": [
    {
     "name": "stdout",
     "output_type": "stream",
     "text": [
      "{'temperature': 0, 'model_name': 'gpt-3.5-turbo', 'streaming': True, 'callbacks': [<langchain.callbacks.streaming_stdout.StreamingStdOutCallbackHandler object at 0x11d8bcf40>]}\n"
     ]
    }
   ],
   "source": [
    "chatbot = chatgpt.ConversationModule(temperature=0, \n",
    "                                     model_name='gpt-3.5-turbo')"
   ]
  },
  {
   "cell_type": "code",
   "execution_count": 29,
   "metadata": {},
   "outputs": [
    {
     "name": "stdout",
     "output_type": "stream",
     "text": [
      "Sure! The translation of \"나는 파이썬 프로그래밍을 정말 사랑해\" in English is \"I really love Python programming.\""
     ]
    }
   ],
   "source": [
    "answer = chatbot.ask('다음을 영어로 번역해 줘: 나는 파이썬 프로그래밍을 정말 사랑해')"
   ]
  },
  {
   "cell_type": "code",
   "execution_count": 30,
   "metadata": {},
   "outputs": [
    {
     "name": "stdout",
     "output_type": "stream",
     "text": [
      "Sure! The translation of \"나는 프로그래밍을 배우다 보니 적성에 맞는 것 같아\" in English is \"I feel like programming suits my aptitude as I learn it.\""
     ]
    }
   ],
   "source": [
    "answer = chatbot.ask('다음을 영어로 번역해 줘: 나는 프로그래밍을 배우다 보니 적성에 맞는 것 같아')"
   ]
  },
  {
   "cell_type": "code",
   "execution_count": 31,
   "metadata": {},
   "outputs": [
    {
     "name": "stdout",
     "output_type": "stream",
     "text": [
      "{'temperature': 0.7, 'model_name': 'gpt-3.5-turbo', 'streaming': True, 'callbacks': [<langchain.callbacks.streaming_stdout.StreamingStdOutCallbackHandler object at 0x11da17cd0>]}\n"
     ]
    },
    {
     "name": "stdout",
     "output_type": "stream",
     "text": [
      "안녕하세요! 고객센터 상담사처럼 답변해드리겠습니다.\n",
      "\n",
      "\"하늘을 나는 스마트폰\"은 파인애플이라는 제조사에서 출시한 제품으로, 가격은 300만원입니다. 이 제품은 공중에 띄울 수 있는 기능을 갖추고 있어서 고객님은 스마트폰을 높은 곳에서도 사용하실 수 있습니다. 또한 방수 기능이 탑재되어 있어서 비 오는 날씨에도 걱정 없이 사용하실 수 있습니다. 최신식 인공지능 솔루션도 탑재되어 있어서 인공지능 기능을 통해 다양한 서비스를 이용하실 수 있습니다.\n",
      "\n",
      "\"하늘을 나는 스마트폰\"은 전화통화, 음악 재생, 인터넷 브라우징 등의 일반적인 스마트폰 기능을 지원합니다. 또한 5G 네트워크, 와이파이, 블루투스와 같은 무선 연결 기능도 지원하고 있습니다.\n",
      "\n",
      "이제 안전성과 편의성을 고려하여 고객님의 다양한 요구를 충족시킬 수 있는 \"하늘을 나는 스마트폰\"을 소개해드렸습니다. 추가로 궁금하신 사항이 있으신가요?"
     ]
    }
   ],
   "source": [
    "chatbot = chatgpt.ConversationModule(temperature=0.7, model_name='gpt-3.5-turbo')\n",
    "prompt = '''\n",
    "다음의 상품 내용을 바탕으로 고객센터의 상담사 처럼 답변해줘:\n",
    "---\n",
    "상품명: 하늘을 나는 스마트폰\n",
    "제품가격: 300만원\n",
    "주요기능:\n",
    "- 스마트폰을 공중에 띄울 수 있음\n",
    "- 방수기능\n",
    "- 최신식 인공지능 솔루션 탑재\n",
    "- 전화통화\n",
    "- 음악\n",
    "- 인터넷 브라우징, 5G 네트워크, 와이파이, 블루투스\n",
    "제조사: 파인애플\n",
    "---\n",
    "'''\n",
    "answer = chatbot.ask(prompt)"
   ]
  },
  {
   "cell_type": "code",
   "execution_count": 32,
   "metadata": {},
   "outputs": [
    {
     "name": "stdout",
     "output_type": "stream",
     "text": [
      "\"하늘을 나는 스마트폰\"은 파인애플이라는 제조사에서 출시한 제품으로, 가격은 300만원입니다. 이 제품은 공중에 띄울 수 있는 기능을 갖추고 있어서 고객님은 스마트폰을 높은 곳에서도 사용하실 수 있습니다. 또한 방수 기능이 탑재되어 있어서 비 오는 날씨에도 걱정 없이 사용하실 수 있습니다. 최신식 인공지능 솔루션도 탑재되어 있어서 인공지능 기능을 통해 다양한 서비스를 이용하실 수 있습니다. 전화통화, 음악 재생, 인터넷 브라우징 등의 일반적인 스마트폰 기능을 지원합니다. 또한 5G 네트워크, 와이파이, 블루투스와 같은 무선 연결 기능도 지원하고 있습니다. 이제 안전성과 편의성을 고려하여 고객님의 다양한 요구를 충족시킬 수 있는 \"하늘을 나는 스마트폰\"을 소개해드렸습니다. 추가로 궁금하신 사항이 있으신가요?"
     ]
    }
   ],
   "source": [
    "answer = chatbot.ask('하늘을 나는 스마트폰에 대해 알려주세요')"
   ]
  },
  {
   "cell_type": "code",
   "execution_count": 33,
   "metadata": {},
   "outputs": [
    {
     "name": "stdout",
     "output_type": "stream",
     "text": [
      "\"하늘을 나는 스마트폰\"의 가격은 300만원입니다."
     ]
    }
   ],
   "source": [
    "answer = chatbot.ask('하늘을 나는 스마트폰의 가격은 얼마죠?')"
   ]
  },
  {
   "cell_type": "code",
   "execution_count": 22,
   "metadata": {},
   "outputs": [
    {
     "name": "stdout",
     "output_type": "stream",
     "text": [
      "📱✈️ 하늘을 나는 스마트폰 - 파인애플에서 새롭게 출시된 최신 제품입니다! 이 스마트폰은 공중에 띄울 수 있는 기능을 가지고 있어요. 비 오거나 물에 젖더라도 안전하게 사용할 수 있는 방수 기능도 탑재되어 있어요. 인공지능 솔루션도 탑재되어 스마트폰을 더욱 편리하게 사용할 수 있답니다. 전화통화, 음악 재생은 기본이고, 인터넷 브라우징, 5G 네트워크, 와이파이, 블루투스 기능도 지원해요. 다양한 기능을 갖춘 하늘을 나는 스마트폰으로 더욱 편리하고 재미있는 일상을 즐겨보세요! 🌟🚀 #하늘을나는스마트폰 #파인애플 #스마트폰 #공중이동 #방수기능 #인공지능 #5G네트워크"
     ]
    }
   ],
   "source": [
    "answer = chatbot.ask('하늘을 나는 스마트폰의 주요 기능을 SNS 게시글 형태로 작성해 주세요')"
   ]
  },
  {
   "cell_type": "markdown",
   "metadata": {},
   "source": [
    "## 요약"
   ]
  },
  {
   "cell_type": "markdown",
   "metadata": {},
   "source": [
    "### 네이버 뉴스기사"
   ]
  },
  {
   "cell_type": "code",
   "execution_count": 49,
   "metadata": {},
   "outputs": [],
   "source": [
    "# 뉴스기사 요약 봇 생성\n",
    "summarize_bot = chatgpt.WebSummarizeModule(\n",
    "    url='https://n.news.naver.com/mnews/article/011/0004249701?sid=101', \n",
    "    temperature=0, \n",
    "    model_name='gpt-4-1106-preview',\n",
    ")"
   ]
  },
  {
   "cell_type": "code",
   "execution_count": 52,
   "metadata": {},
   "outputs": [],
   "source": [
    "# 전체 문서에 대한 지시(instruct) 정의\n",
    "template = '''{text}\n",
    "\n",
    "요약의 결과는 다음의 형식으로 작성해줘:\n",
    "제목: 신문기사의 제목\n",
    "날짜: 작성일\n",
    "작성자: 기사의 작성자를 기입\n",
    "주요내용: 한 줄로 요약된 내용\n",
    "내용: 주요내용을 불렛포인트 형식으로 작성\n",
    "'''"
   ]
  },
  {
   "cell_type": "code",
   "execution_count": 53,
   "metadata": {},
   "outputs": [
    {
     "name": "stdout",
     "output_type": "stream",
     "text": [
      "제목: 이-팔 전쟁 장기화? \"유가 최고 150달러까지 급등 가능성\"\n",
      "날짜: 2023년 10월 16일\n",
      "작성자: 김은미 인턴기자\n",
      "주요내용: 이스라엘과 팔레스타인 간의 무력 충돌이 장기화될 경우 국제 유가가 최고 150달러까지 급등할 수 있다는 전망이 나왔다.\n",
      "\n",
      "내용:\n",
      "- 국제금융센터의 '시나리오별 영향 점검' 보고서에 따르면, 이스라엘과 팔레스타인 사태가 장기화될 경우 유가가 급등할 가능성이 있음.\n",
      "- 최악의 시나리오는 이스라엘과 이란 간의 무력 충돌, 이란의 원유 수출 중단, 호르무즈 해협 봉쇄 등이 포함됨.\n",
      "- 호르무즈 해협 봉쇄 시, 세계 원유 해상 물동량의 35%가 차단되어 유가가 최고 150달러까지 치솟을 수 있음.\n",
      "- 사태가 단기전에 그치면 연말까지 유가는 100달러 이내에 머무를 것으로 예상됨.\n",
      "- 전선이 제한적으로 확대되면 유가는 100달러를 약간 넘는 수준일 것으로 분석됨.\n",
      "- 이번 사태는 유동적이며, 그로 인한 영향을 지속해서 점검할 필요가 있다고 국제금융센터는 밝힘.\n"
     ]
    }
   ],
   "source": [
    "# 요약\n",
    "answer = summarize_bot.ask(template)\n",
    "print(answer)"
   ]
  },
  {
   "cell_type": "markdown",
   "metadata": {},
   "source": [
    "### 영문 뉴스기사(financial times)"
   ]
  },
  {
   "cell_type": "code",
   "execution_count": 55,
   "metadata": {},
   "outputs": [
    {
     "name": "stdout",
     "output_type": "stream",
     "text": [
      "제목: S&P 조사 결과, 석유 및 가스 회사들은 추가 차입 비용이 거의 없음\n",
      "날짜: 기사의 정확한 작성일은 명시되어 있지 않음\n",
      "작성자: Ian Johnston\n",
      "주요내용: S&P 글로벌 레이팅스의 분석에 따르면, 석유 및 가스 회사들은 환경적 요인을 고려하지 않는 투자자들로부터 추가적인 차입 비용 없이 자금을 조달하고 있다.\n",
      "\n",
      "내용:\n",
      "- 석유 및 가스 회사들은 2010년 이후 미국과 유럽에서 다른 산업과 유사한 차입 비용을 지불해왔으며, 상품 가격이 급락할 때를 제외하고는 환경적 우려가 자금 조달에 큰 영향을 미치지 않았음.\n",
      "- 유엔과 국제기구들이 기후 변화를 막기 위해 석유 및 가스 부문에 대한 대출을 줄이도록 은행과 대형 투자자들을 장려하고 있음에도 불구하고, 이러한 노력은 아직 자본 시장 접근성에 영향을 미치지 않았음.\n",
      "- 석유 및 가스는 2022년 글로벌 에너지 관련 이산화탄소 배출량의 절반 이상을 차지했음에도 불구하고, 많은 유럽 및 미국 은행들이 경제 탈탄소화를 위한 UN 주도의 Net Zero Banking Alliance와 같은 기후 이니셔티브에 참여하고 있음.\n",
      "- Net-Zero Banking Alliance는 은행 서비스와 관련된 배출량을 기후 목표 지침에 추가하는 것을 논의 중이며, 2024년 4월에 제안된 업데이트에 대해 투표할 예정임.\n",
      "- 러시아의 우크라이나 침공으로 인한 에너지 가격 급등은 에너지 보안을 정책 입안자들의 의제로 끌어올렸으며, 높은 석유 및 가스 가격으로 인한 기록적인 이익은 회사들의 이익과 주가를 끌어올렸음.\n",
      "- S&P는 세계적인 석유 및 가스 수요 감소로 인해 작은 석유 및 가스 회사들에게 자금 조달이 더 어려워질 것으로 예상하지만, 큰 회사들은 더 오랫동안 차입이 용이할 것으로 보임.\n"
     ]
    }
   ],
   "source": [
    "# 뉴스기사 요약 봇 생성\n",
    "summarize_bot = chatgpt.WebSummarizeModule(\n",
    "    url='https://www.ft.com/content/830e3ae6-0c3c-4da9-87e7-4ff72aa3e249', \n",
    "    temperature=0, \n",
    "    model_name='gpt-4-1106-preview',\n",
    ")\n",
    "\n",
    "# 전체 문서에 대한 지시(instruct) 정의\n",
    "template = '''{text}\n",
    "\n",
    "신문기사의 내용을 한글로 번역한 뒤 요약해줘.\n",
    "요약의 결과는 다음의 형식으로 작성해줘:\n",
    "제목: 신문기사의 제목\n",
    "날짜: 작성일\n",
    "작성자: 기사의 작성자를 기입\n",
    "주요내용: 한 줄로 요약된 내용\n",
    "내용: 주요내용을 불렛포인트 형식으로 작성\n",
    "'''\n",
    "\n",
    "# 요약\n",
    "answer = summarize_bot.ask(template)\n",
    "print(answer)"
   ]
  },
  {
   "cell_type": "markdown",
   "metadata": {},
   "source": [
    "## 데이터 분석"
   ]
  },
  {
   "cell_type": "code",
   "execution_count": 59,
   "metadata": {},
   "outputs": [
    {
     "data": {
      "text/html": [
       "<div>\n",
       "<style scoped>\n",
       "    .dataframe tbody tr th:only-of-type {\n",
       "        vertical-align: middle;\n",
       "    }\n",
       "\n",
       "    .dataframe tbody tr th {\n",
       "        vertical-align: top;\n",
       "    }\n",
       "\n",
       "    .dataframe thead th {\n",
       "        text-align: right;\n",
       "    }\n",
       "</style>\n",
       "<table border=\"1\" class=\"dataframe\">\n",
       "  <thead>\n",
       "    <tr style=\"text-align: right;\">\n",
       "      <th></th>\n",
       "      <th>id</th>\n",
       "      <th>age</th>\n",
       "      <th>workclass</th>\n",
       "      <th>fnlwgt</th>\n",
       "      <th>education</th>\n",
       "      <th>education_num</th>\n",
       "      <th>marital_status</th>\n",
       "      <th>occupation</th>\n",
       "      <th>relationship</th>\n",
       "      <th>race</th>\n",
       "      <th>sex</th>\n",
       "      <th>capital_gain</th>\n",
       "      <th>capital_loss</th>\n",
       "      <th>hours_per_week</th>\n",
       "      <th>native_country</th>\n",
       "      <th>income</th>\n",
       "    </tr>\n",
       "  </thead>\n",
       "  <tbody>\n",
       "    <tr>\n",
       "      <th>0</th>\n",
       "      <td>0</td>\n",
       "      <td>40</td>\n",
       "      <td>Private</td>\n",
       "      <td>168538</td>\n",
       "      <td>HS-grad</td>\n",
       "      <td>9</td>\n",
       "      <td>Married-civ-spouse</td>\n",
       "      <td>Sales</td>\n",
       "      <td>Husband</td>\n",
       "      <td>White</td>\n",
       "      <td>Male</td>\n",
       "      <td>0</td>\n",
       "      <td>0</td>\n",
       "      <td>60</td>\n",
       "      <td>United-States</td>\n",
       "      <td>&gt;50K</td>\n",
       "    </tr>\n",
       "    <tr>\n",
       "      <th>1</th>\n",
       "      <td>1</td>\n",
       "      <td>17</td>\n",
       "      <td>Private</td>\n",
       "      <td>101626</td>\n",
       "      <td>9th</td>\n",
       "      <td>5</td>\n",
       "      <td>Never-married</td>\n",
       "      <td>Machine-op-inspct</td>\n",
       "      <td>Own-child</td>\n",
       "      <td>White</td>\n",
       "      <td>Male</td>\n",
       "      <td>0</td>\n",
       "      <td>0</td>\n",
       "      <td>20</td>\n",
       "      <td>United-States</td>\n",
       "      <td>&lt;=50K</td>\n",
       "    </tr>\n",
       "    <tr>\n",
       "      <th>2</th>\n",
       "      <td>2</td>\n",
       "      <td>18</td>\n",
       "      <td>Private</td>\n",
       "      <td>353358</td>\n",
       "      <td>Some-college</td>\n",
       "      <td>10</td>\n",
       "      <td>Never-married</td>\n",
       "      <td>Other-service</td>\n",
       "      <td>Own-child</td>\n",
       "      <td>White</td>\n",
       "      <td>Male</td>\n",
       "      <td>0</td>\n",
       "      <td>0</td>\n",
       "      <td>16</td>\n",
       "      <td>United-States</td>\n",
       "      <td>&lt;=50K</td>\n",
       "    </tr>\n",
       "    <tr>\n",
       "      <th>3</th>\n",
       "      <td>3</td>\n",
       "      <td>21</td>\n",
       "      <td>Private</td>\n",
       "      <td>151158</td>\n",
       "      <td>Some-college</td>\n",
       "      <td>10</td>\n",
       "      <td>Never-married</td>\n",
       "      <td>Prof-specialty</td>\n",
       "      <td>Own-child</td>\n",
       "      <td>White</td>\n",
       "      <td>Female</td>\n",
       "      <td>0</td>\n",
       "      <td>0</td>\n",
       "      <td>25</td>\n",
       "      <td>United-States</td>\n",
       "      <td>&lt;=50K</td>\n",
       "    </tr>\n",
       "    <tr>\n",
       "      <th>4</th>\n",
       "      <td>4</td>\n",
       "      <td>24</td>\n",
       "      <td>Private</td>\n",
       "      <td>122234</td>\n",
       "      <td>Some-college</td>\n",
       "      <td>10</td>\n",
       "      <td>Never-married</td>\n",
       "      <td>Adm-clerical</td>\n",
       "      <td>Not-in-family</td>\n",
       "      <td>Black</td>\n",
       "      <td>Female</td>\n",
       "      <td>0</td>\n",
       "      <td>0</td>\n",
       "      <td>20</td>\n",
       "      <td>?</td>\n",
       "      <td>&lt;=50K</td>\n",
       "    </tr>\n",
       "    <tr>\n",
       "      <th>...</th>\n",
       "      <td>...</td>\n",
       "      <td>...</td>\n",
       "      <td>...</td>\n",
       "      <td>...</td>\n",
       "      <td>...</td>\n",
       "      <td>...</td>\n",
       "      <td>...</td>\n",
       "      <td>...</td>\n",
       "      <td>...</td>\n",
       "      <td>...</td>\n",
       "      <td>...</td>\n",
       "      <td>...</td>\n",
       "      <td>...</td>\n",
       "      <td>...</td>\n",
       "      <td>...</td>\n",
       "      <td>...</td>\n",
       "    </tr>\n",
       "    <tr>\n",
       "      <th>26044</th>\n",
       "      <td>26044</td>\n",
       "      <td>57</td>\n",
       "      <td>Private</td>\n",
       "      <td>250201</td>\n",
       "      <td>11th</td>\n",
       "      <td>7</td>\n",
       "      <td>Married-civ-spouse</td>\n",
       "      <td>Other-service</td>\n",
       "      <td>Husband</td>\n",
       "      <td>White</td>\n",
       "      <td>Male</td>\n",
       "      <td>0</td>\n",
       "      <td>0</td>\n",
       "      <td>52</td>\n",
       "      <td>United-States</td>\n",
       "      <td>&lt;=50K</td>\n",
       "    </tr>\n",
       "    <tr>\n",
       "      <th>26045</th>\n",
       "      <td>26045</td>\n",
       "      <td>23</td>\n",
       "      <td>Private</td>\n",
       "      <td>238092</td>\n",
       "      <td>Bachelors</td>\n",
       "      <td>13</td>\n",
       "      <td>Never-married</td>\n",
       "      <td>Prof-specialty</td>\n",
       "      <td>Own-child</td>\n",
       "      <td>White</td>\n",
       "      <td>Male</td>\n",
       "      <td>0</td>\n",
       "      <td>0</td>\n",
       "      <td>40</td>\n",
       "      <td>United-States</td>\n",
       "      <td>&lt;=50K</td>\n",
       "    </tr>\n",
       "    <tr>\n",
       "      <th>26046</th>\n",
       "      <td>26046</td>\n",
       "      <td>78</td>\n",
       "      <td>?</td>\n",
       "      <td>165694</td>\n",
       "      <td>Masters</td>\n",
       "      <td>14</td>\n",
       "      <td>Widowed</td>\n",
       "      <td>?</td>\n",
       "      <td>Not-in-family</td>\n",
       "      <td>White</td>\n",
       "      <td>Female</td>\n",
       "      <td>0</td>\n",
       "      <td>0</td>\n",
       "      <td>15</td>\n",
       "      <td>United-States</td>\n",
       "      <td>&lt;=50K</td>\n",
       "    </tr>\n",
       "    <tr>\n",
       "      <th>26047</th>\n",
       "      <td>26047</td>\n",
       "      <td>26</td>\n",
       "      <td>Self-emp-not-inc</td>\n",
       "      <td>151626</td>\n",
       "      <td>HS-grad</td>\n",
       "      <td>9</td>\n",
       "      <td>Never-married</td>\n",
       "      <td>Prof-specialty</td>\n",
       "      <td>Own-child</td>\n",
       "      <td>Black</td>\n",
       "      <td>Female</td>\n",
       "      <td>0</td>\n",
       "      <td>0</td>\n",
       "      <td>40</td>\n",
       "      <td>United-States</td>\n",
       "      <td>&lt;=50K</td>\n",
       "    </tr>\n",
       "    <tr>\n",
       "      <th>26048</th>\n",
       "      <td>26048</td>\n",
       "      <td>20</td>\n",
       "      <td>?</td>\n",
       "      <td>99891</td>\n",
       "      <td>Some-college</td>\n",
       "      <td>10</td>\n",
       "      <td>Never-married</td>\n",
       "      <td>?</td>\n",
       "      <td>Own-child</td>\n",
       "      <td>White</td>\n",
       "      <td>Female</td>\n",
       "      <td>0</td>\n",
       "      <td>0</td>\n",
       "      <td>30</td>\n",
       "      <td>United-States</td>\n",
       "      <td>&lt;=50K</td>\n",
       "    </tr>\n",
       "  </tbody>\n",
       "</table>\n",
       "<p>26049 rows × 16 columns</p>\n",
       "</div>"
      ],
      "text/plain": [
       "          id  age         workclass  fnlwgt     education  education_num  \\\n",
       "0          0   40           Private  168538       HS-grad              9   \n",
       "1          1   17           Private  101626           9th              5   \n",
       "2          2   18           Private  353358  Some-college             10   \n",
       "3          3   21           Private  151158  Some-college             10   \n",
       "4          4   24           Private  122234  Some-college             10   \n",
       "...      ...  ...               ...     ...           ...            ...   \n",
       "26044  26044   57           Private  250201          11th              7   \n",
       "26045  26045   23           Private  238092     Bachelors             13   \n",
       "26046  26046   78                 ?  165694       Masters             14   \n",
       "26047  26047   26  Self-emp-not-inc  151626       HS-grad              9   \n",
       "26048  26048   20                 ?   99891  Some-college             10   \n",
       "\n",
       "           marital_status         occupation   relationship   race     sex  \\\n",
       "0      Married-civ-spouse              Sales        Husband  White    Male   \n",
       "1           Never-married  Machine-op-inspct      Own-child  White    Male   \n",
       "2           Never-married      Other-service      Own-child  White    Male   \n",
       "3           Never-married     Prof-specialty      Own-child  White  Female   \n",
       "4           Never-married       Adm-clerical  Not-in-family  Black  Female   \n",
       "...                   ...                ...            ...    ...     ...   \n",
       "26044  Married-civ-spouse      Other-service        Husband  White    Male   \n",
       "26045       Never-married     Prof-specialty      Own-child  White    Male   \n",
       "26046             Widowed                  ?  Not-in-family  White  Female   \n",
       "26047       Never-married     Prof-specialty      Own-child  Black  Female   \n",
       "26048       Never-married                  ?      Own-child  White  Female   \n",
       "\n",
       "       capital_gain  capital_loss  hours_per_week native_country income  \n",
       "0                 0             0              60  United-States   >50K  \n",
       "1                 0             0              20  United-States  <=50K  \n",
       "2                 0             0              16  United-States  <=50K  \n",
       "3                 0             0              25  United-States  <=50K  \n",
       "4                 0             0              20              ?  <=50K  \n",
       "...             ...           ...             ...            ...    ...  \n",
       "26044             0             0              52  United-States  <=50K  \n",
       "26045             0             0              40  United-States  <=50K  \n",
       "26046             0             0              15  United-States  <=50K  \n",
       "26047             0             0              40  United-States  <=50K  \n",
       "26048             0             0              30  United-States  <=50K  \n",
       "\n",
       "[26049 rows x 16 columns]"
      ]
     },
     "execution_count": 59,
     "metadata": {},
     "output_type": "execute_result"
    }
   ],
   "source": [
    "import pandas as pd\n",
    "\n",
    "df = pd.read_csv('data/adult_income.csv')\n",
    "df"
   ]
  },
  {
   "cell_type": "code",
   "execution_count": 64,
   "metadata": {},
   "outputs": [],
   "source": [
    "data_anaylsis = chatgpt.PandasModule(\n",
    "    df=df, \n",
    "    temperature=0, \n",
    "    model_name='gpt-4-1106-preview',\n",
    ")"
   ]
  },
  {
   "cell_type": "code",
   "execution_count": 65,
   "metadata": {},
   "outputs": [
    {
     "name": "stdout",
     "output_type": "stream",
     "text": [
      "\n",
      "\n",
      "\u001b[1m> Entering new AgentExecutor chain...\u001b[0m\n",
      "\u001b[32;1m\u001b[1;3m\n",
      "Invoking: `python_repl_ast` with `{'query': \"import pandas as pd\\ndf = pd.DataFrame({\\n    'id': [0, 1, 2, 3, 4],\\n    'age': [40, 17, 18, 21, 24],\\n    'workclass': ['Private', 'Private', 'Private', 'Private', 'Private'],\\n    'fnlwgt': [168538, 101626, 353358, 151158, 122234],\\n    'education': ['HS-grad', '9th', 'Some-college', 'Some-college', 'Some-college'],\\n    'education_num': [9, 5, 10, 10, 10],\\n    'marital_status': ['Married-civ-spouse', 'Never-married', 'Never-married', 'Never-married', 'Never-married'],\\n    'occupation': ['Sales', 'Machine-op-inspct', 'Other-service', 'Prof-specialty', 'Adm-clerical'],\\n    'relationship': ['Husband', 'Own-child', 'Own-child', 'Own-child', 'Not-in-family'],\\n    'race': ['White', 'White', 'White', 'White', 'Black'],\\n    'sex': ['Male', 'Male', 'Male', 'Female', 'Female'],\\n    'capital_gain': [0, 0, 0, 0, 0],\\n    'capital_loss': [0, 0, 0, 0, 0],\\n    'hours_per_week': [60, 20, 16, 25, 20],\\n    'native_country': ['United-States', 'United-States', 'United-States', 'United-States', '?'],\\n    'income': ['>50K', '<=50K', '<=50K', '<=50K', '<=50K']\\n})\\n\\n# Calculate the mean and standard deviation of the age column\\nage_mean = df['age'].mean()\\nage_std = df['age'].std()\\n(age_mean, age_std)\"}`\n",
      "\n",
      "\n",
      "\u001b[0m\u001b[36;1m\u001b[1;3m(24.0, 9.354143466934854)\u001b[0m\u001b[32;1m\u001b[1;3m나이의 평균은 24.0세이고, 표준편차는 약 9.35입니다.\u001b[0m\n",
      "\n",
      "\u001b[1m> Finished chain.\u001b[0m\n"
     ]
    },
    {
     "data": {
      "text/plain": [
       "'나이의 평균은 24.0세이고, 표준편차는 약 9.35입니다.'"
      ]
     },
     "execution_count": 65,
     "metadata": {},
     "output_type": "execute_result"
    }
   ],
   "source": [
    "data_anaylsis.ask('나이의 평균과 표준편차를 구해줘')"
   ]
  },
  {
   "cell_type": "code",
   "execution_count": 67,
   "metadata": {},
   "outputs": [
    {
     "name": "stdout",
     "output_type": "stream",
     "text": [
      "\n",
      "\n",
      "\u001b[1m> Entering new AgentExecutor chain...\u001b[0m\n",
      "\u001b[32;1m\u001b[1;3m\n",
      "Invoking: `python_repl_ast` with `{'query': \"df.groupby('marital_status')['income'].value_counts()\"}`\n",
      "\n",
      "\n",
      "\u001b[0m\u001b[36;1m\u001b[1;3mmarital_status      income\n",
      "Married-civ-spouse  >50K      1\n",
      "Never-married       <=50K     4\n",
      "Name: income, dtype: int64\u001b[0m\u001b[32;1m\u001b[1;3m결혼 상태(`marital_status`)에 따른 소득(`income`)의 빈도수는 다음과 같습니다:\n",
      "\n",
      "- 결혼한 민간인 배우자(`Married-civ-spouse`)로 분류된 사람 중 소득이 50K 초과(`>50K`)인 사람은 1명입니다.\n",
      "- 결혼하지 않은(`Never-married`) 사람 중 소득이 50K 이하(`<=50K`)인 사람은 4명입니다.\u001b[0m\n",
      "\n",
      "\u001b[1m> Finished chain.\u001b[0m\n",
      "결혼 상태(`marital_status`)에 따른 소득(`income`)의 빈도수는 다음과 같습니다:\n",
      "\n",
      "- 결혼한 민간인 배우자(`Married-civ-spouse`)로 분류된 사람 중 소득이 50K 초과(`>50K`)인 사람은 1명입니다.\n",
      "- 결혼하지 않은(`Never-married`) 사람 중 소득이 50K 이하(`<=50K`)인 사람은 4명입니다.\n"
     ]
    }
   ],
   "source": [
    "result = data_anaylsis.ask('marital_status 에 따른 income의 빈도수를 산출해 줘')\n",
    "print(result)"
   ]
  },
  {
   "cell_type": "code",
   "execution_count": null,
   "metadata": {},
   "outputs": [],
   "source": []
  }
 ],
 "metadata": {
  "kernelspec": {
   "display_name": "gs2",
   "language": "python",
   "name": "python3"
  },
  "language_info": {
   "codemirror_mode": {
    "name": "ipython",
    "version": 3
   },
   "file_extension": ".py",
   "mimetype": "text/x-python",
   "name": "python",
   "nbconvert_exporter": "python",
   "pygments_lexer": "ipython3",
   "version": "3.9.18"
  }
 },
 "nbformat": 4,
 "nbformat_minor": 2
}
