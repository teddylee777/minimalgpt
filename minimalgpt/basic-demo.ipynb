{
 "cells": [
  {
   "cell_type": "markdown",
   "metadata": {},
   "source": [
    "## 설치"
   ]
  },
  {
   "cell_type": "code",
   "execution_count": 1,
   "metadata": {},
   "outputs": [],
   "source": [
    "# !pip install openai langchain beautifulsoup4 tiktoken -q"
   ]
  },
  {
   "cell_type": "markdown",
   "metadata": {},
   "source": [
    "**참고**\n",
    "\n",
    "- [`OPENAI_API_KEY` 발급 방법](https://teddylee777.github.io/langchain/langchain-tutorial-01/#-%ED%99%98%EA%B2%BD%EC%84%A4%EC%A0%95) "
   ]
  },
  {
   "cell_type": "code",
   "execution_count": 2,
   "metadata": {},
   "outputs": [],
   "source": [
    "import os\n",
    "\n",
    "os.environ['OPENAI_API_KEY'] = 'OPENAI API KEY 를 입력해 주세요'"
   ]
  },
  {
   "cell_type": "markdown",
   "metadata": {},
   "source": [
    "## 질의"
   ]
  },
  {
   "cell_type": "code",
   "execution_count": 3,
   "metadata": {},
   "outputs": [],
   "source": [
    "from minimalgpt.modules import ChatModule"
   ]
  },
  {
   "cell_type": "code",
   "execution_count": 4,
   "metadata": {},
   "outputs": [],
   "source": [
    "# 객체 생성\n",
    "chatbot = ChatModule(\n",
    "    temperature=0, \n",
    "    model_name='gpt-4-1106-preview', \n",
    ")"
   ]
  },
  {
   "cell_type": "code",
   "execution_count": 5,
   "metadata": {},
   "outputs": [
    {
     "name": "stdout",
     "output_type": "stream",
     "text": [
      "\"우리나라\"라고 하셨을 때 어느 나라를 말씀하시는지 명확하지 않습니다. 만약 대한민국(한국)을 말씀하시는 것이라면, 대한민국의 수도는 서울입니다. 다른 나라를 말씀하시는 것이라면, 구체적인 나라 이름을 알려주시면 해당 나라의 수도를 알려드릴 수 있습니다."
     ]
    }
   ],
   "source": [
    "# 질의\n",
    "answer = chatbot.ask('우리나라의 수도는 뭐야?')"
   ]
  },
  {
   "cell_type": "markdown",
   "metadata": {},
   "source": [
    "## 대화(Conversation)"
   ]
  },
  {
   "cell_type": "code",
   "execution_count": 10,
   "metadata": {},
   "outputs": [],
   "source": [
    "from minimalgpt.modules import ConversationModule"
   ]
  },
  {
   "cell_type": "code",
   "execution_count": 11,
   "metadata": {},
   "outputs": [],
   "source": [
    "chatbot = ConversationModule(temperature=0, \n",
    "                             model_name='gpt-3.5-turbo')"
   ]
  },
  {
   "cell_type": "code",
   "execution_count": 12,
   "metadata": {},
   "outputs": [
    {
     "name": "stdout",
     "output_type": "stream",
     "text": [
      "Sure! The translation of \"나는 파이썬 프로그래밍을 정말 사랑해\" in English is \"I really love Python programming.\""
     ]
    }
   ],
   "source": [
    "answer = chatbot.ask('다음을 영어로 번역해 줘: 나는 파이썬 프로그래밍을 정말 사랑해')"
   ]
  },
  {
   "cell_type": "code",
   "execution_count": 13,
   "metadata": {},
   "outputs": [
    {
     "name": "stdout",
     "output_type": "stream",
     "text": [
      "Sure! The translation of \"나는 프로그래밍을 배우다 보니 적성에 맞는 것 같아\" in English is \"I feel like programming suits my aptitude as I learn it.\""
     ]
    }
   ],
   "source": [
    "answer = chatbot.ask('다음을 영어로 번역해 줘: 나는 프로그래밍을 배우다 보니 적성에 맞는 것 같아')"
   ]
  },
  {
   "cell_type": "code",
   "execution_count": 14,
   "metadata": {},
   "outputs": [
    {
     "name": "stdout",
     "output_type": "stream",
     "text": [
      "안녕하세요! 하늘을 나는 스마트폰은 파인애플에서 제조한 제품으로, 300만원에 판매되고 있습니다. 이 스마트폰은 다양한 주요 기능을 갖추고 있어요. 우선, 스마트폰을 공중에 띄울 수 있는 기능이 있어요. 이를 통해 고객님은 스마트폰을 자유롭게 조작하고 사용할 수 있습니다. 또한, 방수 기능도 탑재되어 있어 비 오는 날씨에도 걱정 없이 사용할 수 있어요.\n",
      "\n",
      "또한, 이 제품은 최신식 인공지능 솔루션을 탑재하고 있어요. 이를 통해 더욱 편리하게 스마트폰을 사용할 수 있고, 다양한 기능을 활용할 수 있습니다. 전화통화, 음악 재생, 인터넷 브라우징, 5G 네트워크, 와이파이, 블루투스 기능도 모두 지원되어요.\n",
      "\n",
      "이 제품은 파인애플에서 제조한 것으로 알려져 있습니다. 고객님께서는 이 제품을 구매하시면 다양한 기능과 편의성을 경험하실 수 있을 거에요. 추가로 궁금한 점이 있으신가요?"
     ]
    }
   ],
   "source": [
    "chatbot = ConversationModule(temperature=0.7, model_name='gpt-4-1106-preview')\n",
    "prompt = '''\n",
    "다음의 상품 내용을 바탕으로 고객센터의 상담사 처럼 답변해줘:\n",
    "---\n",
    "상품명: 하늘을 나는 스마트폰\n",
    "제품가격: 300만원\n",
    "주요기능:\n",
    "- 스마트폰을 공중에 띄울 수 있음\n",
    "- 방수기능\n",
    "- 최신식 인공지능 솔루션 탑재\n",
    "- 전화통화\n",
    "- 음악\n",
    "- 인터넷 브라우징, 5G 네트워크, 와이파이, 블루투스\n",
    "제조사: 파인애플\n",
    "---\n",
    "'''\n",
    "answer = chatbot.ask(prompt)"
   ]
  },
  {
   "cell_type": "code",
   "execution_count": 15,
   "metadata": {},
   "outputs": [
    {
     "name": "stdout",
     "output_type": "stream",
     "text": [
      "하늘을 나는 스마트폰은 파인애플에서 제조한 제품으로, 300만원에 판매되고 있습니다. 이 스마트폰은 다양한 주요 기능을 갖추고 있어요. 우선, 스마트폰을 공중에 띄울 수 있는 기능이 있어요. 이를 통해 고객님은 스마트폰을 자유롭게 조작하고 사용할 수 있습니다. 또한, 방수 기능도 탑재되어 있어 비 오는 날씨에도 걱정 없이 사용할 수 있어요.\n",
      "\n",
      "또한, 이 제품은 최신식 인공지능 솔루션을 탑재하고 있어요. 이를 통해 더욱 편리하게 스마트폰을 사용할 수 있고, 다양한 기능을 활용할 수 있습니다. 전화통화, 음악 재생, 인터넷 브라우징, 5G 네트워크, 와이파이, 블루투스 기능도 모두 지원되어요.\n",
      "\n",
      "이 제품은 파인애플에서 제조한 것으로 알려져 있습니다. 고객님께서는 이 제품을 구매하시면 다양한 기능과 편의성을 경험하실 수 있을 거에요. 추가로 궁금한 점이 있으신가요?"
     ]
    }
   ],
   "source": [
    "answer = chatbot.ask('하늘을 나는 스마트폰에 대해 알려주세요')"
   ]
  },
  {
   "cell_type": "code",
   "execution_count": 16,
   "metadata": {},
   "outputs": [
    {
     "name": "stdout",
     "output_type": "stream",
     "text": [
      "하늘을 나는 스마트폰의 가격은 300만원입니다."
     ]
    }
   ],
   "source": [
    "answer = chatbot.ask('하늘을 나는 스마트폰의 가격은 얼마죠?')"
   ]
  },
  {
   "cell_type": "code",
   "execution_count": 17,
   "metadata": {},
   "outputs": [
    {
     "name": "stdout",
     "output_type": "stream",
     "text": [
      "📱✈️하늘을 나는 스마트폰✈️📱\n",
      "💰가격: 300만원💰\n",
      "\n",
      "✨주요 기능✨\n",
      "✅ 스마트폰을 공중에 띄울 수 있어요! 자유롭게 조작하고 사용할 수 있어요.\n",
      "☔️ 방수 기능 탑재! 비 오는 날씨에도 걱정 없이 사용할 수 있어요.\n",
      "🧠 최신식 인공지능 솔루션 탑재! 더욱 편리하게 사용 가능하며, 다양한 기능을 활용할 수 있어요.\n",
      "📞 전화통화, 🎵 음악 재생, 🌐 인터넷 브라우징, 5G 네트워크, 와이파이, 블루투스 기능 모두 지원되어요.\n",
      "\n",
      "구매하시면 다양한 기능과 편의성을 경험할 수 있어요! 궁금한 점 있으신가요?✨"
     ]
    }
   ],
   "source": [
    "answer = chatbot.ask('하늘을 나는 스마트폰의 주요 기능을 SNS 게시글 형태로 작성해 주세요')"
   ]
  },
  {
   "cell_type": "code",
   "execution_count": 18,
   "metadata": {},
   "outputs": [
    {
     "name": "stdout",
     "output_type": "stream",
     "text": [
      "📱✈️하늘을 나는 스마트폰✈️📱 기획안\n",
      "\n",
      "1. 제품 개요\n",
      "- 하늘을 나는 스마트폰은 파인애플에서 제조한 고급스러운 스마트폰입니다.\n",
      "- 고객들에게 혁신적이고 독특한 사용 경험을 제공합니다.\n",
      "\n",
      "2. 목표 고객층\n",
      "- 스마트폰의 새로운 기능과 혁신적인 디자인을 사랑하는 스마트폰 사용자들을 대상으로 합니다.\n",
      "- 특히, 테크노로지에 대한 관심이 높은 젊은 세대를 주요 고객으로 설정합니다.\n",
      "\n",
      "3. 핵심 기능\n",
      "- 스마트폰을 공중에 띄울 수 있는 기능: 사용자는 스마트폰을 자유롭게 조작하고 사용할 수 있습니다.\n",
      "- 방수 기능 탑재: 비 오는 날씨에도 걱정 없이 사용할 수 있습니다.\n",
      "- 최신식 인공지능 솔루션 탑재: 더욱 편리하게 사용 가능하며, 다양한 기능을 활용할 수 있습니다.\n",
      "- 다양한 기능 지원: 전화통화, 음악 재생, 인터넷 브라우징, 5G 네트워크, 와이파이, 블루투스 기능을 모두 지원합니다.\n",
      "\n",
      "4. 마케팅 전략\n",
      "- 소셜미디어를 활용한 광고: SNS를 통해 하늘을 나는 스마트폰의 주요 기능과 특징을 알리고, 관련 이벤트와 혜택을 공유합니다.\n",
      "- 유명인과의 협업: 유명인과의 협업을 통해 제품의 인기와 브랜드 이미지를 강화합니다.\n",
      "- 체험 이벤트: 대형 백화점이나 전시회에서 체험 이벤트를 진행하여 실제로 제품을 사용해보고 고객들에게 제품의 편의성과 기능을 직접 체험할 수 있는 기회를 제공합니다.\n",
      "\n",
      "5. 기대 효과\n",
      "- 시장에서의 경쟁 우위: 혁신적인 기능과 독특한 디자인으로 다른 스마트폰과의 경쟁에서 우위를 점할 수 있습니다.\n",
      "- 브랜드 이미지 강화: 하늘을 나는 스마트폰은 고급스러운 이미지와 혁신적인 기능을 갖춘 제품으로 인식될 것입니다.\n",
      "- 매출 증대: 고급스러운 이미지와 다양한 기능으로 인해 많은 고객들이 제품을 구매할 것으로 예상됩니다.\n",
      "\n",
      "6. 예상 시장 출시일\n",
      "- 하늘을 나는 스마트폰은 20XX년 X월에 시장에 출시될 예정입니다.\n",
      "\n",
      "이상입니다! 어떠신가요? 추가로 궁금한 사항이 있으신가요?"
     ]
    }
   ],
   "source": [
    "answer = chatbot.ask('하늘을 나는 스마트폰 을 주제로 기획안을 작성해 주세요.')"
   ]
  },
  {
   "cell_type": "markdown",
   "metadata": {},
   "source": [
    "## 요약"
   ]
  },
  {
   "cell_type": "markdown",
   "metadata": {},
   "source": [
    "### 네이버 뉴스기사"
   ]
  },
  {
   "cell_type": "code",
   "execution_count": null,
   "metadata": {},
   "outputs": [],
   "source": [
    "from minimalgpt.modules import WebSummarizeModule"
   ]
  },
  {
   "cell_type": "code",
   "execution_count": null,
   "metadata": {},
   "outputs": [],
   "source": [
    "# 뉴스기사 요약 봇 생성\n",
    "summarize_bot = WebSummarizeModule(\n",
    "    url='https://n.news.naver.com/mnews/article/011/0004249701?sid=101', \n",
    "    temperature=0, \n",
    "    model_name='gpt-4-1106-preview',\n",
    ")"
   ]
  },
  {
   "cell_type": "code",
   "execution_count": null,
   "metadata": {},
   "outputs": [],
   "source": [
    "# 전체 문서에 대한 지시(instruct) 정의\n",
    "template = '''{text}\n",
    "\n",
    "요약의 결과는 다음의 형식으로 작성해줘:\n",
    "제목: 신문기사의 제목\n",
    "날짜: 작성일\n",
    "작성자: 기사의 작성자를 기입\n",
    "주요내용: 한 줄로 요약된 내용\n",
    "내용: 주요내용을 불렛포인트 형식으로 작성\n",
    "'''"
   ]
  },
  {
   "cell_type": "code",
   "execution_count": null,
   "metadata": {},
   "outputs": [],
   "source": [
    "# 요약\n",
    "answer = summarize_bot.ask(template)\n",
    "print(answer)"
   ]
  },
  {
   "cell_type": "markdown",
   "metadata": {},
   "source": [
    "### 영문 뉴스기사(financial times)"
   ]
  },
  {
   "cell_type": "code",
   "execution_count": null,
   "metadata": {},
   "outputs": [],
   "source": [
    "# 뉴스기사 요약 봇 생성\n",
    "summarize_bot = WebSummarizeModule(\n",
    "    url='https://www.ft.com/content/830e3ae6-0c3c-4da9-87e7-4ff72aa3e249', \n",
    "    temperature=0, \n",
    "    model_name='gpt-4-1106-preview',\n",
    ")\n",
    "\n",
    "# 전체 문서에 대한 지시(instruct) 정의\n",
    "template = '''{text}\n",
    "\n",
    "신문기사의 내용을 한글로 번역한 뒤 요약해줘.\n",
    "요약의 결과는 다음의 형식으로 작성해줘:\n",
    "제목: 신문기사의 제목\n",
    "날짜: 작성일\n",
    "작성자: 기사의 작성자를 기입\n",
    "주요내용: 한 줄로 요약된 내용\n",
    "내용: 주요내용을 불렛포인트 형식으로 작성\n",
    "'''\n",
    "\n",
    "# 요약\n",
    "answer = summarize_bot.ask(template)\n",
    "print(answer)"
   ]
  },
  {
   "cell_type": "markdown",
   "metadata": {},
   "source": [
    "## 데이터 분석"
   ]
  },
  {
   "cell_type": "code",
   "execution_count": null,
   "metadata": {},
   "outputs": [],
   "source": [
    "import pandas as pd\n",
    "\n",
    "df = pd.read_csv('data/adult_income.csv')\n",
    "df"
   ]
  },
  {
   "cell_type": "code",
   "execution_count": null,
   "metadata": {},
   "outputs": [],
   "source": [
    "from minimalgpt.modules import PandasModule"
   ]
  },
  {
   "cell_type": "code",
   "execution_count": null,
   "metadata": {},
   "outputs": [],
   "source": [
    "data_anaylsis = PandasModule(\n",
    "    df=df, \n",
    "    temperature=0, \n",
    "    model_name='gpt-4-1106-preview',\n",
    ")"
   ]
  },
  {
   "cell_type": "code",
   "execution_count": null,
   "metadata": {},
   "outputs": [],
   "source": [
    "data_anaylsis.ask('나이의 평균과 표준편차를 구해줘')"
   ]
  },
  {
   "cell_type": "code",
   "execution_count": null,
   "metadata": {},
   "outputs": [],
   "source": [
    "result = data_anaylsis.ask('marital_status 에 따른 income의 빈도수를 산출해 줘')\n",
    "print(result)"
   ]
  }
 ],
 "metadata": {
  "kernelspec": {
   "display_name": "gs2",
   "language": "python",
   "name": "python3"
  },
  "language_info": {
   "codemirror_mode": {
    "name": "ipython",
    "version": 3
   },
   "file_extension": ".py",
   "mimetype": "text/x-python",
   "name": "python",
   "nbconvert_exporter": "python",
   "pygments_lexer": "ipython3",
   "version": "3.9.18"
  }
 },
 "nbformat": 4,
 "nbformat_minor": 2
}
